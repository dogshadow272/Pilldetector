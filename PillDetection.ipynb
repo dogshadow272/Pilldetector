{
  "nbformat": 4,
  "nbformat_minor": 0,
  "metadata": {
    "colab": {
      "provenance": [],
      "gpuType": "T4",
      "authorship_tag": "ABX9TyPLN021Sxl1ATB4yoJ0q9no",
      "include_colab_link": true
    },
    "kernelspec": {
      "name": "python3",
      "display_name": "Python 3"
    },
    "language_info": {
      "name": "python"
    },
    "accelerator": "GPU"
  },
  "cells": [
    {
      "cell_type": "markdown",
      "metadata": {
        "id": "view-in-github",
        "colab_type": "text"
      },
      "source": [
        "<a href=\"https://colab.research.google.com/github/Renjian-buchai/buildingBloCS/blob/main/PillDetection.ipynb\" target=\"_parent\"><img src=\"https://colab.research.google.com/assets/colab-badge.svg\" alt=\"Open In Colab\"/></a>"
      ]
    },
    {
      "cell_type": "markdown",
      "source": [
        "CSV Manipilation\n"
      ],
      "metadata": {
        "id": "8sGdrwnEEuUY"
      }
    },
    {
      "cell_type": "code",
      "execution_count": null,
      "metadata": {
        "id": "-U33F-g5A9kD"
      },
      "outputs": [],
      "source": [
        "import pandas as pd\n",
        "\n",
        "# Read the CSV file into a pandas DataFrame\n",
        "df = pd.read_csv('your_file.csv')\n",
        "\n",
        "# Retain only the \"filename\" and \"region_shape_attributes\" columns\n",
        "df = df[['filename', 'region_shape_attributes']]\n",
        "\n",
        "# Save the modified DataFrame to a new CSV file\n",
        "df.to_csv('new_file.csv', index=False)"
      ]
    },
    {
      "cell_type": "code",
      "source": [
        "import json\n",
        "\n",
        "# Read the CSV file into a pandas DataFrame\n",
        "df = pd.read_csv('your_file.csv')\n",
        "\n",
        "# Extract x_min, y_min, x_max, and y_max from region_shape_attributes\n",
        "df['region_shape_attributes'] = df['region_shape_attributes'].apply(lambda x: json.loads(x))\n",
        "df['x_min'] = df['region_shape_attributes'].apply(lambda x: x['x'])\n",
        "df['y_min'] = df['region_shape_attributes'].apply(lambda x: x['y'])\n",
        "df['x_max'] = df['region_shape_attributes'].apply(lambda x: x['x'] + x['width'])\n",
        "df['y_max'] = df['region_shape_attributes'].apply(lambda x: x['y'] + x['height'])\n",
        "\n",
        "# Remove the region_shape_attributes column\n",
        "df = df.drop(columns=['region_shape_attributes'])\n",
        "\n",
        "# Save the modified DataFrame to a new CSV file\n",
        "df.to_csv('new_file.csv', index=False)"
      ],
      "metadata": {
        "id": "EA763Fb6E3tk"
      },
      "execution_count": null,
      "outputs": []
    },
    {
      "cell_type": "markdown",
      "source": [
        "Imports"
      ],
      "metadata": {
        "id": "j0hE9clUE2Ix"
      }
    },
    {
      "cell_type": "code",
      "source": [
        "from tensorflow.keras.applications import VGG16\n",
        "from tensorflow.keras.layers import Flatten\n",
        "from tensorflow.keras.layers import Dense\n",
        "from tensorflow.keras.layers import Input\n",
        "from tensorflow.keras.models import Model\n",
        "from tensorflow.keras.optimizers import Adam\n",
        "from tensorflow.keras.preprocessing.image import img_to_array\n",
        "from tensorflow.keras.preprocessing.image import load_img\n",
        "from sklearn.model_selection import train_test_split\n",
        "import matplotlib.pyplot as plt\n",
        "import numpy as np\n",
        "import cv2\n",
        "import os"
      ],
      "metadata": {
        "id": "n1cNDBmUE-uL"
      },
      "execution_count": 4,
      "outputs": []
    }
  ]
}